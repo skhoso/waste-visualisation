{
 "cells": [
  {
   "cell_type": "markdown",
   "id": "8d51591f",
   "metadata": {},
   "source": [
    "# Data Exploration\n",
    "\n",
    "The goal here is to look at data from different perspectives and produce some initial insights that could help with story telling."
   ]
  },
  {
   "cell_type": "code",
   "execution_count": 1,
   "id": "12531f6d",
   "metadata": {},
   "outputs": [],
   "source": [
    "# Imports\n",
    "import pandas as pd\n",
    "import matplotlib.pyplot as plt"
   ]
  },
  {
   "cell_type": "code",
   "execution_count": 2,
   "id": "248f606a",
   "metadata": {},
   "outputs": [
    {
     "data": {
      "text/html": [
       "<div>\n",
       "<style scoped>\n",
       "    .dataframe tbody tr th:only-of-type {\n",
       "        vertical-align: middle;\n",
       "    }\n",
       "\n",
       "    .dataframe tbody tr th {\n",
       "        vertical-align: top;\n",
       "    }\n",
       "\n",
       "    .dataframe thead th {\n",
       "        text-align: right;\n",
       "    }\n",
       "</style>\n",
       "<table border=\"1\" class=\"dataframe\">\n",
       "  <thead>\n",
       "    <tr style=\"text-align: right;\">\n",
       "      <th></th>\n",
       "      <th>Unnamed: 0</th>\n",
       "      <th>item</th>\n",
       "      <th>item form</th>\n",
       "      <th>category</th>\n",
       "      <th>shelf life</th>\n",
       "      <th>glass</th>\n",
       "      <th>paper</th>\n",
       "      <th>plastic</th>\n",
       "      <th>aluminium</th>\n",
       "      <th>bio</th>\n",
       "      <th>...</th>\n",
       "      <th>monthly total paper</th>\n",
       "      <th>yearly total paper</th>\n",
       "      <th>monthly total plastic</th>\n",
       "      <th>yearly total plastic</th>\n",
       "      <th>monthly total aluminium</th>\n",
       "      <th>yearly total aluminium</th>\n",
       "      <th>monthly total bio</th>\n",
       "      <th>yearly total bio</th>\n",
       "      <th>monthly total</th>\n",
       "      <th>yearly total</th>\n",
       "    </tr>\n",
       "  </thead>\n",
       "  <tbody>\n",
       "    <tr>\n",
       "      <th>0</th>\n",
       "      <td>0</td>\n",
       "      <td>Milk</td>\n",
       "      <td>Liquid</td>\n",
       "      <td>Food</td>\n",
       "      <td>Short</td>\n",
       "      <td>0</td>\n",
       "      <td>0</td>\n",
       "      <td>33</td>\n",
       "      <td>0</td>\n",
       "      <td>0</td>\n",
       "      <td>...</td>\n",
       "      <td>0.0</td>\n",
       "      <td>0.0</td>\n",
       "      <td>528.0</td>\n",
       "      <td>6864.0</td>\n",
       "      <td>0.0</td>\n",
       "      <td>0.0</td>\n",
       "      <td>0.0</td>\n",
       "      <td>0.0</td>\n",
       "      <td>528.0</td>\n",
       "      <td>6864.0</td>\n",
       "    </tr>\n",
       "    <tr>\n",
       "      <th>1</th>\n",
       "      <td>1</td>\n",
       "      <td>Oil Cooking</td>\n",
       "      <td>Liquid</td>\n",
       "      <td>Food</td>\n",
       "      <td>Medium</td>\n",
       "      <td>313</td>\n",
       "      <td>0</td>\n",
       "      <td>0</td>\n",
       "      <td>3</td>\n",
       "      <td>0</td>\n",
       "      <td>...</td>\n",
       "      <td>0.0</td>\n",
       "      <td>0.0</td>\n",
       "      <td>0.0</td>\n",
       "      <td>0.0</td>\n",
       "      <td>14.4</td>\n",
       "      <td>187.2</td>\n",
       "      <td>0.0</td>\n",
       "      <td>0.0</td>\n",
       "      <td>1516.8</td>\n",
       "      <td>19718.4</td>\n",
       "    </tr>\n",
       "    <tr>\n",
       "      <th>2</th>\n",
       "      <td>2</td>\n",
       "      <td>Tea Bgs</td>\n",
       "      <td>Solid</td>\n",
       "      <td>Food</td>\n",
       "      <td>Long</td>\n",
       "      <td>0</td>\n",
       "      <td>10</td>\n",
       "      <td>1</td>\n",
       "      <td>0</td>\n",
       "      <td>350</td>\n",
       "      <td>...</td>\n",
       "      <td>10.0</td>\n",
       "      <td>130.0</td>\n",
       "      <td>1.0</td>\n",
       "      <td>13.0</td>\n",
       "      <td>0.0</td>\n",
       "      <td>0.0</td>\n",
       "      <td>350.0</td>\n",
       "      <td>4550.0</td>\n",
       "      <td>361.0</td>\n",
       "      <td>4693.0</td>\n",
       "    </tr>\n",
       "    <tr>\n",
       "      <th>3</th>\n",
       "      <td>3</td>\n",
       "      <td>Bread</td>\n",
       "      <td>Solid</td>\n",
       "      <td>Food</td>\n",
       "      <td>Short</td>\n",
       "      <td>0</td>\n",
       "      <td>0</td>\n",
       "      <td>9</td>\n",
       "      <td>0</td>\n",
       "      <td>0</td>\n",
       "      <td>...</td>\n",
       "      <td>0.0</td>\n",
       "      <td>0.0</td>\n",
       "      <td>108.0</td>\n",
       "      <td>1404.0</td>\n",
       "      <td>0.0</td>\n",
       "      <td>0.0</td>\n",
       "      <td>0.0</td>\n",
       "      <td>0.0</td>\n",
       "      <td>108.0</td>\n",
       "      <td>1404.0</td>\n",
       "    </tr>\n",
       "    <tr>\n",
       "      <th>4</th>\n",
       "      <td>4</td>\n",
       "      <td>Eggs</td>\n",
       "      <td>Solid</td>\n",
       "      <td>Food</td>\n",
       "      <td>Short</td>\n",
       "      <td>0</td>\n",
       "      <td>29</td>\n",
       "      <td>0</td>\n",
       "      <td>0</td>\n",
       "      <td>42</td>\n",
       "      <td>...</td>\n",
       "      <td>290.0</td>\n",
       "      <td>3770.0</td>\n",
       "      <td>0.0</td>\n",
       "      <td>0.0</td>\n",
       "      <td>0.0</td>\n",
       "      <td>0.0</td>\n",
       "      <td>420.0</td>\n",
       "      <td>5460.0</td>\n",
       "      <td>710.0</td>\n",
       "      <td>9230.0</td>\n",
       "    </tr>\n",
       "  </tbody>\n",
       "</table>\n",
       "<p>5 rows × 24 columns</p>\n",
       "</div>"
      ],
      "text/plain": [
       "   Unnamed: 0          item item form category shelf life  glass  paper  \\\n",
       "0           0          Milk    Liquid     Food      Short      0      0   \n",
       "1           1  Oil Cooking     Liquid     Food     Medium    313      0   \n",
       "2           2      Tea Bgs      Solid    Food        Long      0     10   \n",
       "3           3        Bread      Solid     Food      Short      0      0   \n",
       "4           4          Eggs     Solid     Food      Short      0     29   \n",
       "\n",
       "   plastic  aluminium  bio  ...  monthly total paper  yearly total paper  \\\n",
       "0       33          0    0  ...                  0.0                 0.0   \n",
       "1        0          3    0  ...                  0.0                 0.0   \n",
       "2        1          0  350  ...                 10.0               130.0   \n",
       "3        9          0    0  ...                  0.0                 0.0   \n",
       "4        0          0   42  ...                290.0              3770.0   \n",
       "\n",
       "   monthly total plastic  yearly total plastic  monthly total aluminium  \\\n",
       "0                  528.0                6864.0                      0.0   \n",
       "1                    0.0                   0.0                     14.4   \n",
       "2                    1.0                  13.0                      0.0   \n",
       "3                  108.0                1404.0                      0.0   \n",
       "4                    0.0                   0.0                      0.0   \n",
       "\n",
       "   yearly total aluminium  monthly total bio  yearly total bio  monthly total  \\\n",
       "0                     0.0                0.0               0.0          528.0   \n",
       "1                   187.2                0.0               0.0         1516.8   \n",
       "2                     0.0              350.0            4550.0          361.0   \n",
       "3                     0.0                0.0               0.0          108.0   \n",
       "4                     0.0              420.0            5460.0          710.0   \n",
       "\n",
       "   yearly total  \n",
       "0        6864.0  \n",
       "1       19718.4  \n",
       "2        4693.0  \n",
       "3        1404.0  \n",
       "4        9230.0  \n",
       "\n",
       "[5 rows x 24 columns]"
      ]
     },
     "execution_count": 2,
     "metadata": {},
     "output_type": "execute_result"
    }
   ],
   "source": [
    "# Load data\n",
    "data = pd.read_csv('data/prepared_waste_data.csv')\n",
    "data.head()"
   ]
  },
  {
   "cell_type": "code",
   "execution_count": 3,
   "id": "6b3978f8",
   "metadata": {},
   "outputs": [
    {
     "data": {
      "text/html": [
       "<div>\n",
       "<style scoped>\n",
       "    .dataframe tbody tr th:only-of-type {\n",
       "        vertical-align: middle;\n",
       "    }\n",
       "\n",
       "    .dataframe tbody tr th {\n",
       "        vertical-align: top;\n",
       "    }\n",
       "\n",
       "    .dataframe thead th {\n",
       "        text-align: right;\n",
       "    }\n",
       "</style>\n",
       "<table border=\"1\" class=\"dataframe\">\n",
       "  <thead>\n",
       "    <tr style=\"text-align: right;\">\n",
       "      <th></th>\n",
       "      <th>item</th>\n",
       "      <th>item form</th>\n",
       "      <th>category</th>\n",
       "      <th>shelf life</th>\n",
       "      <th>glass</th>\n",
       "      <th>paper</th>\n",
       "      <th>plastic</th>\n",
       "      <th>aluminium</th>\n",
       "      <th>bio</th>\n",
       "      <th>weekly usage</th>\n",
       "      <th>...</th>\n",
       "      <th>monthly total paper</th>\n",
       "      <th>yearly total paper</th>\n",
       "      <th>monthly total plastic</th>\n",
       "      <th>yearly total plastic</th>\n",
       "      <th>monthly total aluminium</th>\n",
       "      <th>yearly total aluminium</th>\n",
       "      <th>monthly total bio</th>\n",
       "      <th>yearly total bio</th>\n",
       "      <th>monthly total</th>\n",
       "      <th>yearly total</th>\n",
       "    </tr>\n",
       "  </thead>\n",
       "  <tbody>\n",
       "    <tr>\n",
       "      <th>0</th>\n",
       "      <td>Milk</td>\n",
       "      <td>Liquid</td>\n",
       "      <td>Food</td>\n",
       "      <td>Short</td>\n",
       "      <td>0</td>\n",
       "      <td>0</td>\n",
       "      <td>33</td>\n",
       "      <td>0</td>\n",
       "      <td>0</td>\n",
       "      <td>4.00</td>\n",
       "      <td>...</td>\n",
       "      <td>0.0</td>\n",
       "      <td>0.0</td>\n",
       "      <td>528.0</td>\n",
       "      <td>6864.0</td>\n",
       "      <td>0.0</td>\n",
       "      <td>0.0</td>\n",
       "      <td>0.0</td>\n",
       "      <td>0.0</td>\n",
       "      <td>528.0</td>\n",
       "      <td>6864.0</td>\n",
       "    </tr>\n",
       "    <tr>\n",
       "      <th>1</th>\n",
       "      <td>Oil Cooking</td>\n",
       "      <td>Liquid</td>\n",
       "      <td>Food</td>\n",
       "      <td>Medium</td>\n",
       "      <td>313</td>\n",
       "      <td>0</td>\n",
       "      <td>0</td>\n",
       "      <td>3</td>\n",
       "      <td>0</td>\n",
       "      <td>1.20</td>\n",
       "      <td>...</td>\n",
       "      <td>0.0</td>\n",
       "      <td>0.0</td>\n",
       "      <td>0.0</td>\n",
       "      <td>0.0</td>\n",
       "      <td>14.4</td>\n",
       "      <td>187.2</td>\n",
       "      <td>0.0</td>\n",
       "      <td>0.0</td>\n",
       "      <td>1516.8</td>\n",
       "      <td>19718.4</td>\n",
       "    </tr>\n",
       "    <tr>\n",
       "      <th>2</th>\n",
       "      <td>Tea Bgs</td>\n",
       "      <td>Solid</td>\n",
       "      <td>Food</td>\n",
       "      <td>Long</td>\n",
       "      <td>0</td>\n",
       "      <td>10</td>\n",
       "      <td>1</td>\n",
       "      <td>0</td>\n",
       "      <td>350</td>\n",
       "      <td>0.25</td>\n",
       "      <td>...</td>\n",
       "      <td>10.0</td>\n",
       "      <td>130.0</td>\n",
       "      <td>1.0</td>\n",
       "      <td>13.0</td>\n",
       "      <td>0.0</td>\n",
       "      <td>0.0</td>\n",
       "      <td>350.0</td>\n",
       "      <td>4550.0</td>\n",
       "      <td>361.0</td>\n",
       "      <td>4693.0</td>\n",
       "    </tr>\n",
       "    <tr>\n",
       "      <th>3</th>\n",
       "      <td>Bread</td>\n",
       "      <td>Solid</td>\n",
       "      <td>Food</td>\n",
       "      <td>Short</td>\n",
       "      <td>0</td>\n",
       "      <td>0</td>\n",
       "      <td>9</td>\n",
       "      <td>0</td>\n",
       "      <td>0</td>\n",
       "      <td>3.00</td>\n",
       "      <td>...</td>\n",
       "      <td>0.0</td>\n",
       "      <td>0.0</td>\n",
       "      <td>108.0</td>\n",
       "      <td>1404.0</td>\n",
       "      <td>0.0</td>\n",
       "      <td>0.0</td>\n",
       "      <td>0.0</td>\n",
       "      <td>0.0</td>\n",
       "      <td>108.0</td>\n",
       "      <td>1404.0</td>\n",
       "    </tr>\n",
       "    <tr>\n",
       "      <th>4</th>\n",
       "      <td>Eggs</td>\n",
       "      <td>Solid</td>\n",
       "      <td>Food</td>\n",
       "      <td>Short</td>\n",
       "      <td>0</td>\n",
       "      <td>29</td>\n",
       "      <td>0</td>\n",
       "      <td>0</td>\n",
       "      <td>42</td>\n",
       "      <td>2.50</td>\n",
       "      <td>...</td>\n",
       "      <td>290.0</td>\n",
       "      <td>3770.0</td>\n",
       "      <td>0.0</td>\n",
       "      <td>0.0</td>\n",
       "      <td>0.0</td>\n",
       "      <td>0.0</td>\n",
       "      <td>420.0</td>\n",
       "      <td>5460.0</td>\n",
       "      <td>710.0</td>\n",
       "      <td>9230.0</td>\n",
       "    </tr>\n",
       "  </tbody>\n",
       "</table>\n",
       "<p>5 rows × 23 columns</p>\n",
       "</div>"
      ],
      "text/plain": [
       "           item item form category shelf life  glass  paper  plastic  \\\n",
       "0          Milk    Liquid     Food      Short      0      0       33   \n",
       "1  Oil Cooking     Liquid     Food     Medium    313      0        0   \n",
       "2      Tea Bgs      Solid    Food        Long      0     10        1   \n",
       "3        Bread      Solid     Food      Short      0      0        9   \n",
       "4          Eggs     Solid     Food      Short      0     29        0   \n",
       "\n",
       "   aluminium  bio  weekly usage  ...  monthly total paper  yearly total paper  \\\n",
       "0          0    0          4.00  ...                  0.0                 0.0   \n",
       "1          3    0          1.20  ...                  0.0                 0.0   \n",
       "2          0  350          0.25  ...                 10.0               130.0   \n",
       "3          0    0          3.00  ...                  0.0                 0.0   \n",
       "4          0   42          2.50  ...                290.0              3770.0   \n",
       "\n",
       "   monthly total plastic  yearly total plastic  monthly total aluminium  \\\n",
       "0                  528.0                6864.0                      0.0   \n",
       "1                    0.0                   0.0                     14.4   \n",
       "2                    1.0                  13.0                      0.0   \n",
       "3                  108.0                1404.0                      0.0   \n",
       "4                    0.0                   0.0                      0.0   \n",
       "\n",
       "   yearly total aluminium  monthly total bio  yearly total bio  monthly total  \\\n",
       "0                     0.0                0.0               0.0          528.0   \n",
       "1                   187.2                0.0               0.0         1516.8   \n",
       "2                     0.0              350.0            4550.0          361.0   \n",
       "3                     0.0                0.0               0.0          108.0   \n",
       "4                     0.0              420.0            5460.0          710.0   \n",
       "\n",
       "   yearly total  \n",
       "0        6864.0  \n",
       "1       19718.4  \n",
       "2        4693.0  \n",
       "3        1404.0  \n",
       "4        9230.0  \n",
       "\n",
       "[5 rows x 23 columns]"
      ]
     },
     "execution_count": 3,
     "metadata": {},
     "output_type": "execute_result"
    }
   ],
   "source": [
    "# Drop the previous index column that was added to CSV\n",
    "data = data.drop(columns=['Unnamed: 0'])\n",
    "data.head()"
   ]
  },
  {
   "cell_type": "code",
   "execution_count": 9,
   "id": "f92e1684",
   "metadata": {},
   "outputs": [
    {
     "data": {
      "text/plain": [
       "yearly total glass         62314.20\n",
       "yearly total paper          7013.76\n",
       "yearly total plastic       38278.76\n",
       "yearly total aluminium      2241.20\n",
       "yearly total bio           78338.00\n",
       "yearly total              188185.92\n",
       "dtype: float64"
      ]
     },
     "execution_count": 9,
     "metadata": {},
     "output_type": "execute_result"
    }
   ],
   "source": [
    "# Looking at total yearly waste across all products\n",
    "data[[i for i in data.columns if i.find(\"yearly\") == 0]].sum()"
   ]
  },
  {
   "cell_type": "code",
   "execution_count": 11,
   "id": "8e12a8b7",
   "metadata": {},
   "outputs": [
    {
     "name": "stdout",
     "output_type": "stream",
     "text": [
      "Average yearly waste produced across the world with similar pattern: 2594400000000.0\n"
     ]
    }
   ],
   "source": [
    "# 188 KG of waste per year on the limited data sample\n",
    "# if we project this to the population of the world, with the assumption that 50% of the world produces similar\n",
    "# of more waste per year, and average family size of 3.45 (https://worldpopulationreview.com/country-rankings/family-size-by-country)\n",
    "# and world population of 8 billion (https://www.worldometers.info/world-population/)\n",
    "\n",
    "world_population = 8000000000\n",
    "average_family_size = 3.45\n",
    "similar_or_more_waste = 0.5\n",
    "waste_per_month = 188\n",
    "\n",
    "projected_yearly_waste = waste_per_month * similar_or_more_waste * average_family_size * world_population\n",
    "print (f'Average yearly waste produced across the world with similar pattern: {projected_yearly_waste}')"
   ]
  },
  {
   "cell_type": "code",
   "execution_count": 12,
   "id": "407ae2bf",
   "metadata": {},
   "outputs": [],
   "source": [
    "# The data above 2.5 billion tonnes matches the estimates of the world bank (https://datatopics.worldbank.org/what-a-waste/trends_in_solid_waste_management.html)"
   ]
  },
  {
   "cell_type": "code",
   "execution_count": 18,
   "id": "2dced1df",
   "metadata": {},
   "outputs": [
    {
     "data": {
      "image/png": "[encoded data removed]",
      "text/plain": [
       "<Figure size 640x480 with 1 Axes>"
      ]
     },
     "metadata": {},
     "output_type": "display_data"
    }
   ],
   "source": [
    "# Exploring the share of each type of waste\n",
    "col_names = [i for i in data.columns if i.find(\"yearly total \") == 0]\n",
    "col_labels = [i.replace(\"yearly total \", \"\") for i in col_names]\n",
    "waste_breakdown = data[col_names].sum()\n",
    "plt.pie(waste_breakdown, labels=col_labels)\n",
    "plt.show()"
   ]
  },
  {
   "cell_type": "markdown",
   "id": "84365bb6",
   "metadata": {},
   "source": [
    "## Exploring categories and their values"
   ]
  },
  {
   "cell_type": "code",
   "execution_count": 7,
   "id": "fdea7e97",
   "metadata": {},
   "outputs": [
    {
     "data": {
      "text/html": [
       "<div>\n",
       "<style scoped>\n",
       "    .dataframe tbody tr th:only-of-type {\n",
       "        vertical-align: middle;\n",
       "    }\n",
       "\n",
       "    .dataframe tbody tr th {\n",
       "        vertical-align: top;\n",
       "    }\n",
       "\n",
       "    .dataframe thead th {\n",
       "        text-align: right;\n",
       "    }\n",
       "</style>\n",
       "<table border=\"1\" class=\"dataframe\">\n",
       "  <thead>\n",
       "    <tr style=\"text-align: right;\">\n",
       "      <th></th>\n",
       "      <th>item</th>\n",
       "    </tr>\n",
       "    <tr>\n",
       "      <th>item form</th>\n",
       "      <th></th>\n",
       "    </tr>\n",
       "  </thead>\n",
       "  <tbody>\n",
       "    <tr>\n",
       "      <th>Liquid</th>\n",
       "      <td>13</td>\n",
       "    </tr>\n",
       "    <tr>\n",
       "      <th>Solid</th>\n",
       "      <td>33</td>\n",
       "    </tr>\n",
       "  </tbody>\n",
       "</table>\n",
       "</div>"
      ],
      "text/plain": [
       "           item\n",
       "item form      \n",
       "Liquid       13\n",
       "Solid        33"
      ]
     },
     "execution_count": 7,
     "metadata": {},
     "output_type": "execute_result"
    }
   ],
   "source": [
    "# Looking at data points per some categories, to see if we can develop some hypothesis\n",
    "data.groupby('item form').agg({'item': 'count'})"
   ]
  },
  {
   "cell_type": "markdown",
   "id": "5010522f",
   "metadata": {},
   "source": [
    "We are going to add new metric based on the recycling information we have:\n",
    "\n",
    "* Bio waste can be turned fully into BioFuel or compost, so it is not as harmful for the environment\n",
    "* Glass and Metal can be fully recycled without any limitations, so despite needing energy for it, it won't affect environment that negatively\n",
    "* Paper can be recycled (if clean, without plastic) but for the limited number of times (6 at max) since the fibers will become shorter after every recycle and eventually will turn into toilet paper and leave the recycling loop. So despite the ability to recycle, it has bad environmental impact since the production and recycling both affects the environment\n",
    "* Plastic has very limited recycling possibility due to the fact that it is cost and very energy intensive and cost of it is higher than producing new plastic, so unless there is a very good demand for the recycled plastic, it might not be cost efficient to recycle, and they often ended up with other waste in landfills"
   ]
  },
  {
   "cell_type": "code",
   "execution_count": 4,
   "id": "13c832b8",
   "metadata": {},
   "outputs": [],
   "source": [
    "def enviromental_impact_metric(row):\n",
    "    # returns a number between 0 and 1\n",
    "    # 1 or close to 1 means it is very harmful, which means it has higher plastic and paper waste\n",
    "    # 0 or close to 0 means it is not that harmful, since it generates BIO of fully recycleable waste\n",
    "    total_waste = row['glass'] + row['paper'] + row['plastic'] + row['aluminium'] + row['bio']\n",
    "    not_harmful_waste = row['glass'] + row['aluminium'] + row['bio']\n",
    "    return 1 - not_harmful_waste / total_waste\n",
    "\n",
    "data['env impact'] = data.apply(enviromental_impact_metric, axis=1)"
   ]
  },
  {
   "cell_type": "code",
   "execution_count": 14,
   "id": "216612cb",
   "metadata": {},
   "outputs": [
    {
     "data": {
      "text/html": [
       "<div>\n",
       "<style scoped>\n",
       "    .dataframe tbody tr th:only-of-type {\n",
       "        vertical-align: middle;\n",
       "    }\n",
       "\n",
       "    .dataframe tbody tr th {\n",
       "        vertical-align: top;\n",
       "    }\n",
       "\n",
       "    .dataframe thead th {\n",
       "        text-align: right;\n",
       "    }\n",
       "</style>\n",
       "<table border=\"1\" class=\"dataframe\">\n",
       "  <thead>\n",
       "    <tr style=\"text-align: right;\">\n",
       "      <th></th>\n",
       "      <th>item</th>\n",
       "      <th>env impact</th>\n",
       "    </tr>\n",
       "  </thead>\n",
       "  <tbody>\n",
       "    <tr>\n",
       "      <th>0</th>\n",
       "      <td>Milk</td>\n",
       "      <td>1.000000</td>\n",
       "    </tr>\n",
       "    <tr>\n",
       "      <th>1</th>\n",
       "      <td>Oil Cooking</td>\n",
       "      <td>0.000000</td>\n",
       "    </tr>\n",
       "    <tr>\n",
       "      <th>2</th>\n",
       "      <td>Tea Bgs</td>\n",
       "      <td>0.030471</td>\n",
       "    </tr>\n",
       "    <tr>\n",
       "      <th>3</th>\n",
       "      <td>Bread</td>\n",
       "      <td>1.000000</td>\n",
       "    </tr>\n",
       "    <tr>\n",
       "      <th>4</th>\n",
       "      <td>Eggs</td>\n",
       "      <td>0.408451</td>\n",
       "    </tr>\n",
       "    <tr>\n",
       "      <th>5</th>\n",
       "      <td>Cooking Butter</td>\n",
       "      <td>1.000000</td>\n",
       "    </tr>\n",
       "    <tr>\n",
       "      <th>6</th>\n",
       "      <td>Cooking Cream</td>\n",
       "      <td>1.000000</td>\n",
       "    </tr>\n",
       "    <tr>\n",
       "      <th>7</th>\n",
       "      <td>Pasta</td>\n",
       "      <td>1.000000</td>\n",
       "    </tr>\n",
       "    <tr>\n",
       "      <th>8</th>\n",
       "      <td>Parmesan Chheese</td>\n",
       "      <td>1.000000</td>\n",
       "    </tr>\n",
       "    <tr>\n",
       "      <th>9</th>\n",
       "      <td>Cheese</td>\n",
       "      <td>1.000000</td>\n",
       "    </tr>\n",
       "  </tbody>\n",
       "</table>\n",
       "</div>"
      ],
      "text/plain": [
       "                item  env impact\n",
       "0               Milk    1.000000\n",
       "1       Oil Cooking     0.000000\n",
       "2           Tea Bgs     0.030471\n",
       "3             Bread     1.000000\n",
       "4               Eggs    0.408451\n",
       "5     Cooking Butter    1.000000\n",
       "6     Cooking Cream     1.000000\n",
       "7             Pasta     1.000000\n",
       "8  Parmesan Chheese     1.000000\n",
       "9            Cheese     1.000000"
      ]
     },
     "execution_count": 14,
     "metadata": {},
     "output_type": "execute_result"
    }
   ],
   "source": [
    "data[['item', 'env impact']].head(10)"
   ]
  },
  {
   "cell_type": "code",
   "execution_count": 24,
   "id": "b9314c2e",
   "metadata": {},
   "outputs": [
    {
     "data": {
      "text/html": [
       "<div>\n",
       "<style scoped>\n",
       "    .dataframe tbody tr th:only-of-type {\n",
       "        vertical-align: middle;\n",
       "    }\n",
       "\n",
       "    .dataframe tbody tr th {\n",
       "        vertical-align: top;\n",
       "    }\n",
       "\n",
       "    .dataframe thead th {\n",
       "        text-align: right;\n",
       "    }\n",
       "</style>\n",
       "<table border=\"1\" class=\"dataframe\">\n",
       "  <thead>\n",
       "    <tr style=\"text-align: right;\">\n",
       "      <th></th>\n",
       "      <th>item</th>\n",
       "      <th>weekly usage</th>\n",
       "      <th>weekly total</th>\n",
       "      <th>env impact</th>\n",
       "    </tr>\n",
       "    <tr>\n",
       "      <th>shelf life</th>\n",
       "      <th></th>\n",
       "      <th></th>\n",
       "      <th></th>\n",
       "      <th></th>\n",
       "    </tr>\n",
       "  </thead>\n",
       "  <tbody>\n",
       "    <tr>\n",
       "      <th>Long</th>\n",
       "      <td>20</td>\n",
       "      <td>0.533000</td>\n",
       "      <td>93.250000</td>\n",
       "      <td>0.689406</td>\n",
       "    </tr>\n",
       "    <tr>\n",
       "      <th>Medium</th>\n",
       "      <td>12</td>\n",
       "      <td>1.983333</td>\n",
       "      <td>82.916667</td>\n",
       "      <td>0.673702</td>\n",
       "    </tr>\n",
       "    <tr>\n",
       "      <th>Short</th>\n",
       "      <td>14</td>\n",
       "      <td>1.910714</td>\n",
       "      <td>57.428571</td>\n",
       "      <td>0.589650</td>\n",
       "    </tr>\n",
       "  </tbody>\n",
       "</table>\n",
       "</div>"
      ],
      "text/plain": [
       "            item  weekly usage  weekly total  env impact\n",
       "shelf life                                              \n",
       "Long          20      0.533000     93.250000    0.689406\n",
       "Medium        12      1.983333     82.916667    0.673702\n",
       "Short         14      1.910714     57.428571    0.589650"
      ]
     },
     "execution_count": 24,
     "metadata": {},
     "output_type": "execute_result"
    }
   ],
   "source": [
    "# Looking at shelf life and how other parameters look like in it\n",
    "data.groupby('shelf life').agg({'item': 'count', 'weekly usage': 'mean', 'weekly total': 'mean', 'env impact': 'mean'})"
   ]
  },
  {
   "cell_type": "markdown",
   "id": "01f92383",
   "metadata": {},
   "source": [
    "Going to plot some graphs to check if we can see clear correlation between some columns"
   ]
  },
  {
   "cell_type": "code",
   "execution_count": 20,
   "id": "45af96f5",
   "metadata": {},
   "outputs": [
    {
     "data": {
      "image/png": "[encoded data removed]",
      "text/plain": [
       "<Figure size 640x480 with 1 Axes>"
      ]
     },
     "metadata": {},
     "output_type": "display_data"
    }
   ],
   "source": [
    "plt.scatter(data['shelf life'],data['env impact'])\n",
    "plt.show()"
   ]
  },
  {
   "cell_type": "code",
   "execution_count": 21,
   "id": "3b5ca1bd",
   "metadata": {},
   "outputs": [
    {
     "data": {
      "image/png": "[encoded data removed]",
      "text/plain": [
       "<Figure size 640x480 with 1 Axes>"
      ]
     },
     "metadata": {},
     "output_type": "display_data"
    }
   ],
   "source": [
    "# Weekly usage relationship with env impact\n",
    "plt.scatter(data['weekly usage'],data['env impact'])\n",
    "plt.show()"
   ]
  },
  {
   "cell_type": "code",
   "execution_count": 29,
   "id": "7754d278",
   "metadata": {},
   "outputs": [
    {
     "data": {
      "image/png": "[encoded data removed]",
      "text/plain": [
       "<Figure size 640x480 with 1 Axes>"
      ]
     },
     "metadata": {},
     "output_type": "display_data"
    }
   ],
   "source": [
    "plt.scatter(data['weekly usage'],data['shelf life'])\n",
    "plt.show()"
   ]
  },
  {
   "cell_type": "code",
   "execution_count": 22,
   "id": "ec701ddd",
   "metadata": {},
   "outputs": [
    {
     "data": {
      "image/png": "[encoded data removed]",
      "text/plain": [
       "<Figure size 640x480 with 1 Axes>"
      ]
     },
     "metadata": {},
     "output_type": "display_data"
    }
   ],
   "source": [
    "# It seems liquids are either using plastic or glass/aluminium, but no in between\n",
    "# But solid forms they have more mixture of packaging\n",
    "plt.scatter(data['item form'],data['env impact'])\n",
    "plt.show()"
   ]
  },
  {
   "cell_type": "code",
   "execution_count": 26,
   "id": "8afad22c",
   "metadata": {},
   "outputs": [
    {
     "data": {
      "image/png": "[encoded data removed]",
      "text/plain": [
       "<Figure size 640x480 with 1 Axes>"
      ]
     },
     "metadata": {},
     "output_type": "display_data"
    }
   ],
   "source": [
    "# It seems the env impact in the data sample is mostly in the two extremes\n",
    "plt.hist(data['env impact'], bins=5)\n",
    "plt.show()"
   ]
  },
  {
   "cell_type": "code",
   "execution_count": 27,
   "id": "3157018c",
   "metadata": {},
   "outputs": [
    {
     "data": {
      "image/png": "[encoded data removed]",
      "text/plain": [
       "<Figure size 640x480 with 1 Axes>"
      ]
     },
     "metadata": {},
     "output_type": "display_data"
    }
   ],
   "source": [
    "plt.hist(data[data['shelf life'] == 'Short']['env impact'], bins=5)\n",
    "plt.show()"
   ]
  },
  {
   "cell_type": "code",
   "execution_count": 28,
   "id": "8bd51a66",
   "metadata": {},
   "outputs": [
    {
     "data": {
      "image/png": "[encoded data removed]",
      "text/plain": [
       "<Figure size 640x480 with 1 Axes>"
      ]
     },
     "metadata": {},
     "output_type": "display_data"
    }
   ],
   "source": [
    "plt.hist(data[data['shelf life'] == 'Medium']['env impact'], bins=5)\n",
    "plt.show()"
   ]
  },
  {
   "cell_type": "code",
   "execution_count": 32,
   "id": "36387898",
   "metadata": {},
   "outputs": [
    {
     "data": {
      "image/png": "[encoded data removed]",
      "text/plain": [
       "<Figure size 640x480 with 1 Axes>"
      ]
     },
     "metadata": {},
     "output_type": "display_data"
    }
   ],
   "source": [
    "plt.hist(data[data['item form'] == 'Solid']['env impact'], bins=3)\n",
    "plt.show()"
   ]
  },
  {
   "cell_type": "markdown",
   "id": "23ef9906",
   "metadata": {},
   "source": [
    "## Hypothesis \n",
    "\n",
    "Items with short shelf time tends to have worst environmental impact, which means the `env impact` is greater than `0.5` with 95% certainity (more than half of the waste produced are harmful for the environment).\n",
    "\n",
    "Null Hypothesis: env impact <= 0.5\n",
    "\n",
    "Alternative Hypothesis: env impact > 0.5"
   ]
  },
  {
   "cell_type": "code",
   "execution_count": 5,
   "id": "76911452",
   "metadata": {},
   "outputs": [],
   "source": [
    "import numpy as np\n",
    "from scipy.stats import ttest_1samp"
   ]
  },
  {
   "cell_type": "code",
   "execution_count": 8,
   "id": "2c4d2fe2",
   "metadata": {},
   "outputs": [
    {
     "data": {
      "text/plain": [
       "(14,)"
      ]
     },
     "execution_count": 8,
     "metadata": {},
     "output_type": "execute_result"
    }
   ],
   "source": [
    "dataset = data[data['shelf life'] == 'Short']['env impact']\n",
    "dataset.shape"
   ]
  },
  {
   "cell_type": "code",
   "execution_count": 12,
   "id": "4ec523f4",
   "metadata": {},
   "outputs": [
    {
     "data": {
      "text/plain": [
       "TtestResult(statistic=0.7591336371118553, pvalue=0.23065818597226034, df=13)"
      ]
     },
     "execution_count": 12,
     "metadata": {},
     "output_type": "execute_result"
    }
   ],
   "source": [
    "test_result = ttest_1samp(dataset, 0.5, alternative='greater')\n",
    "test_result"
   ]
  },
  {
   "cell_type": "markdown",
   "id": "371244db",
   "metadata": {},
   "source": [
    "## Save Data\n",
    "\n",
    "Now that we modified our data, we are going to save it so we could visualise it in Tableau."
   ]
  },
  {
   "cell_type": "code",
   "execution_count": 5,
   "id": "e6647d7e",
   "metadata": {},
   "outputs": [],
   "source": [
    "data.to_csv('data/waste-data-final.csv')"
   ]
  },
  {
   "cell_type": "code",
   "execution_count": null,
   "id": "f81de557",
   "metadata": {},
   "outputs": [],
   "source": []
  }
 ],
 "metadata": {
  "kernelspec": {
   "display_name": "Python 3 (ipykernel)",
   "language": "python",
   "name": "python3"
  },
  "language_info": {
   "codemirror_mode": {
    "name": "ipython",
    "version": 3
   },
   "file_extension": ".py",
   "mimetype": "text/x-python",
   "name": "python",
   "nbconvert_exporter": "python",
   "pygments_lexer": "ipython3",
   "version": "3.10.9"
  }
 },
 "nbformat": 4,
 "nbformat_minor": 5
}
